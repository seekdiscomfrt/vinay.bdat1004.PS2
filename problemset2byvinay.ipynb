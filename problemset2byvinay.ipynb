{
 "cells": [
  {
   "cell_type": "markdown",
   "id": "d31fee96",
   "metadata": {},
   "source": [
    "## Question 1\n",
    "Consider the following Python module:\n",
    "a = 0\n",
    "def b():\n",
    " global a\n",
    " a = c(a)\n",
    "def c(a):\n",
    " return a + 2\n",
    "After importing the module into the interpreter, you execute:\n",
    " b()\n",
    " b()\n",
    " b()\n",
    " a\n",
    "?\n",
    "What value is displayed when the last expression (a) is evaluated? Explain your\n",
    "answer by indicating what happens in every executed statement."
   ]
  },
  {
   "cell_type": "code",
   "execution_count": 1,
   "id": "80849930",
   "metadata": {},
   "outputs": [],
   "source": [
    "a = 0\n",
    "def b():\n",
    " global a\n",
    " a = c(a)\n",
    "def c(a):\n",
    " return a + 2"
   ]
  },
  {
   "cell_type": "code",
   "execution_count": 2,
   "id": "1621bc4f",
   "metadata": {},
   "outputs": [],
   "source": [
    "b() #calling function b , it makes a=0+2=2"
   ]
  },
  {
   "cell_type": "code",
   "execution_count": 3,
   "id": "67e8286c",
   "metadata": {},
   "outputs": [],
   "source": [
    "b()#calling function b , it makes a=2+2=4"
   ]
  },
  {
   "cell_type": "code",
   "execution_count": 4,
   "id": "e3f01be9",
   "metadata": {},
   "outputs": [],
   "source": [
    "b()#calling function b , it makes a=4+2=6"
   ]
  },
  {
   "cell_type": "code",
   "execution_count": 5,
   "id": "467fa3eb",
   "metadata": {},
   "outputs": [
    {
     "data": {
      "text/plain": [
       "6"
      ]
     },
     "execution_count": 5,
     "metadata": {},
     "output_type": "execute_result"
    }
   ],
   "source": [
    "a #tells the final value stored in a"
   ]
  },
  {
   "cell_type": "markdown",
   "id": "22361db3",
   "metadata": {},
   "source": [
    "## Question 2\n",
    "Function fileLength(), given to you, takes the name of a file as input and returns <br>\n",
    "the length of the file: <br>\n",
    " fileLength('midterm.py') <br>\n",
    "284<br>\n",
    " fileLength('idterm.py')<br>\n",
    "Traceback (most recent call last):<br>\n",
    "File \"<pyshell#34>\", line 1, in module<br>\n",
    " fileLength('idterm.py')<br>\n",
    "File \"/Users/me/midterm.py\", line 3, in fileLength<br>\n",
    " infile = open(filename)<br>\n",
    "FileNotFoundError: [Errno 2] No such file or directory:<br>\n",
    "'idterm.py'<br>\n",
    "As shown above, if the file cannot be found by the interpreter or if it cannot be read<br>\n",
    "as a text file, an exception will be raised. Modify function fileLength() so that a<br>\n",
    "friendly message is printed instead:<br>\n",
    " fileLength('midterm.py')<br>\n",
    "358<br>\n",
    " fileLength('idterm.py')<br>\n",
    "File idterm.py not found.<br>\n"
   ]
  },
  {
   "cell_type": "code",
   "execution_count": 6,
   "id": "b194ed32",
   "metadata": {},
   "outputs": [],
   "source": [
    "file = open('midterm.txt','a')\n",
    "file.write('hi , this is made for problem number 2 exception handling question')\n",
    "file.close()"
   ]
  },
  {
   "cell_type": "code",
   "execution_count": 7,
   "id": "800223b2",
   "metadata": {},
   "outputs": [],
   "source": [
    "def fileLength(a):\n",
    "    try:\n",
    "        file = open(a)\n",
    "        length = len(file.read())\n",
    "        return length\n",
    "    except:\n",
    "        print('file',a,'not found')\n",
    "    "
   ]
  },
  {
   "cell_type": "code",
   "execution_count": 8,
   "id": "227cb7b9",
   "metadata": {},
   "outputs": [
    {
     "data": {
      "text/plain": [
       "726"
      ]
     },
     "execution_count": 8,
     "metadata": {},
     "output_type": "execute_result"
    }
   ],
   "source": [
    "fileLength('midterm.txt')    #this number may seem false because I ran my notebook several times"
   ]
  },
  {
   "cell_type": "code",
   "execution_count": 9,
   "id": "d7cf4282",
   "metadata": {},
   "outputs": [
    {
     "name": "stdout",
     "output_type": "stream",
     "text": [
      "file idterm.txt not found\n"
     ]
    }
   ],
   "source": [
    "fileLength('idterm.txt')"
   ]
  },
  {
   "cell_type": "markdown",
   "id": "ad615ec9",
   "metadata": {},
   "source": [
    "## QUESTION-3\n",
    "Write a class named Marsupial that can be used as shown below: <br>\n",
    " m = Marsupial() <br>\n",
    " m.put_in_pouch('doll')<br>\n",
    " m.put_in_pouch('firetruck')<br>\n",
    " m.put_in_pouch('kitten')<br>\n",
    " m.pouch_contents()<br>\n",
    "['doll', 'firetruck', 'kitten']<br>\n",
    "Now write a class named Kangaroo as a subclass of Marsupial that inherits all the<br>\n",
    "attributes of Marsupial and also:<br>\n",
    "a. extends the Marsupial __init__ constructor to take, as input, the<br>\n",
    "coordinates x and y of the Kangaroo object,<br>\n",
    "b. supports method jump that takes number values dx and dy as input and<br>\n",
    "moves the kangaroo by dx units along the x-axis and by dy units along the yaxis, and<br>\n",
    "c. overloads the __str__ operator so it behaves as shown below.<br>\n",
    " k = Kangaroo(0,0)<br>\n",
    " print(k)<br>\n",
    "I am a Kangaroo located at coordinates (0,0)<br>\n",
    " k.put_in_pouch('doll')<br>\n",
    " k.put_in_pouch('firetruck')<br>\n",
    " k.put_in_pouch('kitten')<br>\n",
    " k.pouch_contents()<br>\n",
    "['doll', 'firetruck', 'kitten']<br>\n",
    " k.jump(1,0)<br>\n",
    " k.jump(1,0)<br>\n",
    " k.jump(1,0)<br>\n",
    " print(k)<br>\n",
    "I am a Kangaroo located at coordinates (3,0)<br>"
   ]
  },
  {
   "cell_type": "code",
   "execution_count": 10,
   "id": "a76f75b4",
   "metadata": {},
   "outputs": [
    {
     "name": "stdout",
     "output_type": "stream",
     "text": [
      "['doll', 'firetruck', 'kitten']\n"
     ]
    }
   ],
   "source": [
    "class Marsupial:\n",
    "    \n",
    "    def __init__(self):\n",
    "        self.lst = []\n",
    "\n",
    "    #Add to list\n",
    "    def put_in_pouch(self, item):\n",
    "        self.lst.append(item)\n",
    "\n",
    "    #Return List\n",
    "    def pouch_contents(self):\n",
    "        return self.lst\n",
    "\n",
    "m = Marsupial()\n",
    "m.put_in_pouch('doll')\n",
    "m.put_in_pouch('firetruck')\n",
    "m.put_in_pouch('kitten')\n",
    "print(m.pouch_contents()) "
   ]
  },
  {
   "cell_type": "code",
   "execution_count": 11,
   "id": "bc0d8e43",
   "metadata": {},
   "outputs": [
    {
     "name": "stdout",
     "output_type": "stream",
     "text": [
      "I am a Kangaroo located at coordinates (0,0)\n",
      "['doll', 'firetruck', 'kitten']\n",
      "I am a Kangaroo located at coordinates (3,0)\n"
     ]
    }
   ],
   "source": [
    "class Marsupial:\n",
    "    \n",
    "    def __init__(self):\n",
    "        self.lst = []\n",
    "\n",
    "    #Add to list\n",
    "    def put_in_pouch(self, item):\n",
    "        self.lst.append(item)\n",
    "\n",
    "    #Return List\n",
    "    def pouch_contents(self):\n",
    "        return self.lst\n",
    "\n",
    "\n",
    "class Kangaroo(Marsupial):\n",
    "\n",
    "    def __init__(self,x,y):\n",
    "        Marsupial.__init__(self)\n",
    "        self.x = x\n",
    "        self.y = y\n",
    "\n",
    "    def jump(self,dx,dy):\n",
    "        self.x += dx\n",
    "        self.y += dy\n",
    "\n",
    "    def __str__(self):\n",
    "        return 'I am a Kangaroo located at coordinates ({},{})'.format(self.x,self.y)\n",
    "\n",
    "\n",
    "k = Kangaroo(0,0)\n",
    "print(k)\n",
    "k.put_in_pouch('doll')\n",
    "k.put_in_pouch('firetruck')\n",
    "k.put_in_pouch('kitten')\n",
    "print(k.pouch_contents())\n",
    "k.jump(1,0)\n",
    "k.jump(1,0)\n",
    "k.jump(1,0)\n",
    "print(k) "
   ]
  },
  {
   "cell_type": "markdown",
   "id": "21c9abb3",
   "metadata": {},
   "source": [
    "## Question 4\n",
    "Write function collatz() that takes a positive integer x as input and prints the<br>\n",
    "Collatz sequence starting at x. A Collatz sequence is obtained by repeatedly applying<br>\n",
    "this rule to the previous number x in the sequence:<br>\n",
    "x = {\n",
    "𝑥/2 𝑖𝑓 𝑥 𝑖𝑠 𝑒𝑣𝑒𝑛\n",
    "3𝑥 + 1 𝑖𝑓 𝑥 𝑖𝑠 𝑜𝑑𝑑\n",
    "Your function should stop when the sequence gets to number 1. Your\n",
    "implementation must be recursive, without any loops."
   ]
  },
  {
   "cell_type": "code",
   "execution_count": 12,
   "id": "f68fa874",
   "metadata": {},
   "outputs": [],
   "source": [
    "def Collatz(x):\n",
    "\n",
    "    while x != 1:\n",
    "        print(x, end = ' ')\n",
    " \n",
    "        # if x is odd\n",
    "        if x & 1:\n",
    "            x = 3 * x + 1\n",
    " \n",
    "        # if even\n",
    "        else:\n",
    "            x = x // 2\n",
    "    print(x)\n",
    " \n",
    "\n",
    " "
   ]
  },
  {
   "cell_type": "code",
   "execution_count": 13,
   "id": "0c4f8009",
   "metadata": {},
   "outputs": [
    {
     "name": "stdout",
     "output_type": "stream",
     "text": [
      "1\n"
     ]
    }
   ],
   "source": [
    "Collatz(1)"
   ]
  },
  {
   "cell_type": "code",
   "execution_count": 14,
   "id": "abf1b287",
   "metadata": {},
   "outputs": [
    {
     "name": "stdout",
     "output_type": "stream",
     "text": [
      "10 5 16 8 4 2 1\n"
     ]
    }
   ],
   "source": [
    "Collatz(10)"
   ]
  },
  {
   "cell_type": "markdown",
   "id": "bf11ac42",
   "metadata": {},
   "source": [
    "## Question 5\n",
    "Write a recursive method binary() that takes a non-negative<br>\n",
    "integer n and prints the binary representation of integer n.<br>\n",
    " binary(0)<br>\n",
    "0\n",
    " binary(1)<br>\n",
    "1\n",
    " binary(3)<br>\n",
    "11\n",
    " binary(9)<br>\n",
    "1001\n"
   ]
  },
  {
   "cell_type": "code",
   "execution_count": 15,
   "id": "93f94b97",
   "metadata": {},
   "outputs": [
    {
     "data": {
      "text/plain": [
       "1001"
      ]
     },
     "execution_count": 15,
     "metadata": {},
     "output_type": "execute_result"
    }
   ],
   "source": [
    "def binary(decimal_number):\n",
    "    if decimal_number == 0:\n",
    "        return 0\n",
    "    elif decimal_number > 0:\n",
    "        return (decimal_number % 2 + 10 *\n",
    "                binary(int(decimal_number // 2)))\n",
    "    else:\n",
    "        print('please enter non-negative number')\n",
    "binary(9)"
   ]
  },
  {
   "cell_type": "code",
   "execution_count": 16,
   "id": "04229309",
   "metadata": {},
   "outputs": [
    {
     "data": {
      "text/plain": [
       "0"
      ]
     },
     "execution_count": 16,
     "metadata": {},
     "output_type": "execute_result"
    }
   ],
   "source": [
    "binary(0)"
   ]
  },
  {
   "cell_type": "code",
   "execution_count": 17,
   "id": "28d0ec23",
   "metadata": {},
   "outputs": [
    {
     "data": {
      "text/plain": [
       "11"
      ]
     },
     "execution_count": 17,
     "metadata": {},
     "output_type": "execute_result"
    }
   ],
   "source": [
    "binary(3)"
   ]
  },
  {
   "cell_type": "code",
   "execution_count": 18,
   "id": "46d9e4a2",
   "metadata": {},
   "outputs": [
    {
     "data": {
      "text/plain": [
       "1"
      ]
     },
     "execution_count": 18,
     "metadata": {},
     "output_type": "execute_result"
    }
   ],
   "source": [
    "binary(1)"
   ]
  },
  {
   "cell_type": "markdown",
   "id": "9187ef13",
   "metadata": {},
   "source": [
    "## Question 6\n",
    "Implement a class named HeadingParser that can be used to parse an HTML<br>\n",
    "document, and retrieve and print all the headings in the document. You should<br>\n",
    "implement your class as a subclass of HTMLParser, defined in Standard Library<br>\n",
    "module html.parser. When fed a string containing HTML code, your class should<br>\n",
    "print the headings, one per line and in the order in which they appear in the<br>\n",
    "document. Each heading should be indented as follows: an h1 heading should have <br>\n",
    "indentation 0, and h2 heading should have indentation 1, etc. Test your<br>\n",
    "implementation using w3c.html.<br>\n",
    " infile = open('w3c.html')<br>\n",
    " content = infile.read()<br>\n",
    " infile.close()<br>\n",
    " hp = HeadingParser()<br>\n",
    " hp.feed(content)<br>\n",
    " W3C Mission<br>\n",
    " Principles<br>"
   ]
  },
  {
   "cell_type": "code",
   "execution_count": 46,
   "id": "7c2910ff",
   "metadata": {},
   "outputs": [
    {
     "name": "stdout",
     "output_type": "stream",
     "text": [
      "W3C Mission\n",
      " Principles\n"
     ]
    }
   ],
   "source": [
    "from html.parser import HTMLParser\n",
    "\n",
    "class HeadingParser(HTMLParser):\n",
    "    headerFlag = False\n",
    "    indent = 0\n",
    "    \n",
    "    def handle_starttag(self, tag, attrs):      \n",
    "        if tag == \"h1\":\n",
    "            self.headerFlag = True\n",
    "            self.indent= 0\n",
    "        elif tag == \"h2\":\n",
    "            self.headerFlag = True\n",
    "            self.indent= 1\n",
    "        elif tag == \"h3\":\n",
    "            self.headerFlag = True\n",
    "            self.indent= 2\n",
    "        elif tag == \"h4\":\n",
    "            self.headerFlag = True\n",
    "            self.indent= 3\n",
    "        elif tag == \"h5\":\n",
    "            self.headerFlag = True\n",
    "            self.indent= 4\n",
    "        elif tag == \"h6\":\n",
    "            self.headerFlag = True\n",
    "            self.indent= 5\n",
    "        else:\n",
    "            self.headerFlag = False\n",
    "            self.indent= 0\n",
    "    \n",
    "    def handle_data(self, data):                \n",
    "        if self.headerFlag: \n",
    "            space = \" \"*self.indent\n",
    "            print(\"%s%s\" % (space,data))\n",
    "    \n",
    "    def handle_endtag(self, tag):\n",
    "        \n",
    "        if tag in [\"h1\",\"h2\",\"h3\",\"h4\",\"h5\",\"h6\"]:\n",
    "            self.headerFlag = False\n",
    "\n",
    "\n",
    "hParser = HeadingParser()\n",
    "\n",
    "file = open(\"w3c.html\", \"r\")\n",
    "         \n",
    "html = file.read()                  \n",
    " \n",
    "file.close()    \n",
    "                \n",
    "hParser.feed(html) "
   ]
  },
  {
   "cell_type": "markdown",
   "id": "b080b067",
   "metadata": {},
   "source": [
    "## Question 7\n",
    "Implement recursive function webdir() that takes as input: a URL (as a string) and<br>\n",
    "non-negative integers depth and indent. Your function should visit every web<br>\n",
    "page reachable from the starting URL web page in depth clicks or less, and print<br>\n",
    "each web page's URL. As shown below, indentation, specified by indent, should<br>\n",
    "be used to indicate the depth of a URL.<br>\n",
    "<br>\n",
    "webdir('http://reed.cs.depaul.edu/lperkovic/csc242/test1.html'<br>\n",
    ", 2, 0)<br>\n",
    "http://reed.cs.depaul.edu/lperkovic/csc242/test1.html<br>\n",
    " http://reed.cs.depaul.edu/lperkovic/csc242/test2.html<br>\n",
    " http://reed.cs.depaul.edu/lperkovic/csc242/test4.html<br>\n",
    " http://reed.cs.depaul.edu/lperkovic/csc242/test3.html<br>\n",
    " http://reed.cs.depaul.edu/lperkovic/csc242/test4.html<br>"
   ]
  },
  {
   "cell_type": "code",
   "execution_count": 23,
   "id": "8a3e6789",
   "metadata": {},
   "outputs": [],
   "source": [
    "from urllib.request import urlopen\n",
    "from urllib.parse import urljoin\n",
    "from html.parser import HTMLParser\n",
    "class Collector(HTMLParser):\n",
    "    \n",
    "\n",
    "    def __init__(self, url):\n",
    "        \n",
    "        HTMLParser.__init__(self)\n",
    "        self.url = url\n",
    "        self.links = []\n",
    "\n",
    "    \n",
    "    def handle_starttag(self, tag, attrs):\n",
    "        \n",
    "        if tag == 'a':\n",
    "            for attr in attrs:\n",
    "                if attr[0] == 'href':\n",
    "                    \n",
    "                    absolute = urljoin(self.url, attr[1])\n",
    "                    if absolute[:4] == 'http': # collect HTTP URLs\n",
    "                        self.links.append(absolute)\n",
    "                        \n",
    "    def getLinks(self):\n",
    "        \n",
    "        return self.links"
   ]
  },
  {
   "cell_type": "code",
   "execution_count": 26,
   "id": "fffd1ad7",
   "metadata": {},
   "outputs": [],
   "source": [
    "def webdir(url, depth, indent):\n",
    "        for i in range(indent+1):\n",
    "            print(\"\\t\",end='')\n",
    "        print(url)\n",
    "    \n",
    "        \n",
    "        content = urlopen(url).read().decode()\n",
    "        collector = Collector(url)\n",
    "        collector.feed(content)\n",
    "        urls = collector.getLinks()\n",
    "    \n",
    "        for o in range(depth):\n",
    "            try:                    \n",
    "                webdir(urls[o], depth-1, indent+1)\n",
    "            except:\n",
    "                pass"
   ]
  },
  {
   "cell_type": "code",
   "execution_count": 25,
   "id": "ffe71fb2",
   "metadata": {},
   "outputs": [
    {
     "name": "stdout",
     "output_type": "stream",
     "text": [
      "\thttp://reed.cs.depaul.edu/lperkovic/test1.html\n",
      "\t\thttp://reed.cs.depaul.edu/lperkovic/test2.html\n",
      "\t\t\thttp://reed.cs.depaul.edu/lperkovic/test4.html\n",
      "\t\thttp://reed.cs.depaul.edu/lperkovic/test3.html\n",
      "\t\t\thttp://reed.cs.depaul.edu/lperkovic/test4.html\n"
     ]
    }
   ],
   "source": [
    "webdir('http://reed.cs.depaul.edu/lperkovic/test1.html',2,0)"
   ]
  },
  {
   "cell_type": "markdown",
   "id": "dedf150d",
   "metadata": {},
   "source": [
    "## Question 8\n",
    "Write SQL queries on the below database table that return:<br>\n",
    "a) All the temperature data.<br>\n",
    "b) All the cities, but without repetition.<br>\n",
    "c) All the records for India.<br>\n",
    "d) All the Fall records.<br>\n",
    "e) The city, country, and season for which the average rainfall is between 200<br>\n",
    "and 400 millimeters.<br>\n",
    "f) The city and country for which the average Fall temperature is above 20<br>\n",
    "degrees, in increasing temperature order.<br>\n",
    "g) The total annual rainfall for Cairo.<br>\n",
    "h) The total rainfall for each season.<br>"
   ]
  },
  {
   "cell_type": "code",
   "execution_count": 34,
   "id": "ee954df1",
   "metadata": {},
   "outputs": [
    {
     "data": {
      "text/plain": [
       "<sqlite3.Cursor at 0x1d8d8739c00>"
      ]
     },
     "execution_count": 34,
     "metadata": {},
     "output_type": "execute_result"
    }
   ],
   "source": [
    "import sqlite3\n",
    "connection = sqlite3.connect('temp.db')\n",
    "cursor = connection.cursor()\n",
    "cursor.execute(\"CREATE TABLE question8t (city text, country text, season text,temperature real, rainfall real)\")\n"
   ]
  },
  {
   "cell_type": "code",
   "execution_count": 35,
   "id": "a1fb280c",
   "metadata": {},
   "outputs": [
    {
     "data": {
      "text/plain": [
       "<sqlite3.Cursor at 0x1d8d8739c00>"
      ]
     },
     "execution_count": 35,
     "metadata": {},
     "output_type": "execute_result"
    }
   ],
   "source": [
    "cursor.execute(\"INSERT INTO question8t VALUES ('Mumbai','India','Winter',24.8,5.9 )\")\n",
    "cursor.execute(\"INSERT INTO question8t VALUES ('Mumbai','India','Spring',28.4,16.2 )\")\n",
    "cursor.execute(\"INSERT INTO question8t VALUES ('Mumbai','India','Spring',28.4,16.2 )\")\n",
    "cursor.execute(\"INSERT INTO question8t VALUES ('Mumbai','India','Summer',27.9,1549.4 )\")\n",
    "cursor.execute(\"INSERT INTO question8t VALUES ('Mumbai','India','Fall',27.6,346.0 )\")\n",
    "cursor.execute(\"INSERT INTO question8t VALUES ('London','United Kingdom','Winter',4.2,207.7)\")\n",
    "cursor.execute(\"INSERT INTO question8t VALUES ('London','United Kingdom','Spring',8.3,169.6)\")\n",
    "cursor.execute(\"INSERT INTO question8t VALUES ('London','United Kingdom','Summer',15.7,157.0)\")\n",
    "cursor.execute(\"INSERT INTO question8t VALUES ('London','United Kingdom','Fall',10.4,218.5)\")\n",
    "cursor.execute(\"INSERT INTO question8t VALUES ('Cairo','Egypt','Winter',13.6,16.5 )\")\n",
    "cursor.execute(\"INSERT INTO question8t VALUES ('Cairo','Egypt','Spring',20.7,6.5 )\")\n",
    "cursor.execute(\"INSERT INTO question8t VALUES ('Cairo','Egypt','Summer',27.7,0.1 )\")\n",
    "cursor.execute(\"INSERT INTO question8t VALUES ('Cairo','Egypt','Fall',22.2,4.5 )\")\n"
   ]
  },
  {
   "cell_type": "code",
   "execution_count": 36,
   "id": "e6f30678",
   "metadata": {},
   "outputs": [],
   "source": [
    "connection.commit()"
   ]
  },
  {
   "cell_type": "markdown",
   "id": "0260c4be",
   "metadata": {},
   "source": [
    "a."
   ]
  },
  {
   "cell_type": "code",
   "execution_count": 38,
   "id": "12c1b252",
   "metadata": {
    "scrolled": true
   },
   "outputs": [
    {
     "data": {
      "text/plain": [
       "[(24.8,),\n",
       " (28.4,),\n",
       " (28.4,),\n",
       " (27.9,),\n",
       " (27.6,),\n",
       " (4.2,),\n",
       " (8.3,),\n",
       " (15.7,),\n",
       " (10.4,),\n",
       " (13.6,),\n",
       " (20.7,),\n",
       " (27.7,),\n",
       " (22.2,)]"
      ]
     },
     "execution_count": 38,
     "metadata": {},
     "output_type": "execute_result"
    }
   ],
   "source": [
    "cursor.execute('SELECT temperature FROM question8t')\n",
    "cursor.fetchall()"
   ]
  },
  {
   "cell_type": "markdown",
   "id": "1b6b6067",
   "metadata": {},
   "source": [
    "b."
   ]
  },
  {
   "cell_type": "code",
   "execution_count": 39,
   "id": "3193d79d",
   "metadata": {},
   "outputs": [
    {
     "data": {
      "text/plain": [
       "[('Mumbai',), ('London',), ('Cairo',)]"
      ]
     },
     "execution_count": 39,
     "metadata": {},
     "output_type": "execute_result"
    }
   ],
   "source": [
    "cursor.execute('SELECT Distinct city FROM question8t')\n",
    "cursor.fetchall()"
   ]
  },
  {
   "cell_type": "markdown",
   "id": "a3d39ee1",
   "metadata": {},
   "source": [
    "c."
   ]
  },
  {
   "cell_type": "code",
   "execution_count": 40,
   "id": "c37c745f",
   "metadata": {},
   "outputs": [
    {
     "data": {
      "text/plain": [
       "[('Mumbai', 'India', 'Winter', 24.8, 5.9),\n",
       " ('Mumbai', 'India', 'Spring', 28.4, 16.2),\n",
       " ('Mumbai', 'India', 'Spring', 28.4, 16.2),\n",
       " ('Mumbai', 'India', 'Summer', 27.9, 1549.4),\n",
       " ('Mumbai', 'India', 'Fall', 27.6, 346.0)]"
      ]
     },
     "execution_count": 40,
     "metadata": {},
     "output_type": "execute_result"
    }
   ],
   "source": [
    "cursor.execute(\"SELECT *  FROM question8t where country='India'\")\n",
    "cursor.fetchall()"
   ]
  },
  {
   "cell_type": "markdown",
   "id": "541522f1",
   "metadata": {},
   "source": [
    "d."
   ]
  },
  {
   "cell_type": "code",
   "execution_count": 41,
   "id": "88203537",
   "metadata": {},
   "outputs": [
    {
     "data": {
      "text/plain": [
       "[('Mumbai', 'India', 'Fall', 27.6, 346.0),\n",
       " ('London', 'United Kingdom', 'Fall', 10.4, 218.5),\n",
       " ('Cairo', 'Egypt', 'Fall', 22.2, 4.5)]"
      ]
     },
     "execution_count": 41,
     "metadata": {},
     "output_type": "execute_result"
    }
   ],
   "source": [
    "cursor.execute(\"SELECT *  FROM question8t where season='Fall'\")\n",
    "cursor.fetchall()"
   ]
  },
  {
   "cell_type": "markdown",
   "id": "349088f6",
   "metadata": {},
   "source": [
    "e."
   ]
  },
  {
   "cell_type": "code",
   "execution_count": 42,
   "id": "cd6eaef7",
   "metadata": {},
   "outputs": [
    {
     "data": {
      "text/plain": [
       "[('Mumbai', 'India', 'Fall'),\n",
       " ('London', 'United Kingdom', 'Winter'),\n",
       " ('London', 'United Kingdom', 'Fall')]"
      ]
     },
     "execution_count": 42,
     "metadata": {},
     "output_type": "execute_result"
    }
   ],
   "source": [
    "cursor.execute(\"SELECT city,country,season FROM question8t WHERE rainfall BETWEEN 200 AND 400;\")\n",
    "cursor.fetchall()"
   ]
  },
  {
   "cell_type": "markdown",
   "id": "55e0f1f6",
   "metadata": {},
   "source": [
    "f."
   ]
  },
  {
   "cell_type": "code",
   "execution_count": 43,
   "id": "cc39d150",
   "metadata": {},
   "outputs": [
    {
     "data": {
      "text/plain": [
       "[('Cairo', 'Egypt'), ('Mumbai', 'India')]"
      ]
     },
     "execution_count": 43,
     "metadata": {},
     "output_type": "execute_result"
    }
   ],
   "source": [
    "cursor.execute(\"SELECT city,country FROM question8t WHERE temperature > 20 and season='Fall' Order by temperature ASC;\")\n",
    "cursor.fetchall()"
   ]
  },
  {
   "cell_type": "markdown",
   "id": "5b4f7c7b",
   "metadata": {},
   "source": [
    "g."
   ]
  },
  {
   "cell_type": "code",
   "execution_count": 44,
   "id": "652ab359",
   "metadata": {},
   "outputs": [
    {
     "data": {
      "text/plain": [
       "[(27.6,)]"
      ]
     },
     "execution_count": 44,
     "metadata": {},
     "output_type": "execute_result"
    }
   ],
   "source": [
    "cursor.execute(\"SELECT SUM(rainfall)FROM question8t where city='Cairo'\")\n",
    "cursor.fetchall()"
   ]
  },
  {
   "cell_type": "markdown",
   "id": "40f510c6",
   "metadata": {},
   "source": [
    "h."
   ]
  },
  {
   "cell_type": "code",
   "execution_count": 45,
   "id": "549d989d",
   "metadata": {},
   "outputs": [
    {
     "data": {
      "text/plain": [
       "[(569.0, 'Fall'), (208.5, 'Spring'), (1706.5, 'Summer'), (230.1, 'Winter')]"
      ]
     },
     "execution_count": 45,
     "metadata": {},
     "output_type": "execute_result"
    }
   ],
   "source": [
    "cursor.execute(\"SELECT SUM(rainfall),season FROM question8t GROUP BY Season\")\n",
    "cursor.fetchall()"
   ]
  },
  {
   "cell_type": "markdown",
   "id": "d6e010b3",
   "metadata": {},
   "source": [
    "## Question 9\n",
    ". Suppose list words is defined as follows:<br>\n",
    " words = ['The', 'quick', 'brown', 'fox', 'jumps', 'over',<br>\n",
    "'the', 'lazy', 'dog']<br>\n",
    "Write list comprehension expressions that use list words and generate the following<br>\n",
    "lists:<br>\n",
    "a) ['THE', 'QUICK', 'BROWN', 'FOX', 'JUMPS', 'OVER', 'THE',<br>\n",
    "'LAZY', 'DOG']<br>\n",
    "b) ['the', 'quick', 'brown', 'fox', 'jumps', 'over', 'the',<br>\n",
    "'lazy', 'dog']<br>\n",
    "c) [3, 5, 5, 3, 5, 4, 3, 4, 3] (the list of lengths of words in list<br>\n",
    "words).<br>\n",
    "d) [['THE', 'the', 3], ['QUICK', 'quick', 5], ['BROWN',<br>\n",
    "'brown', 5], ['FOX', 'fox', 3], ['JUMPS', 'jumps', 5],<br>\n",
    "['OVER', 'over', 4], ['THE', 'the', 3], ['LAZY', 'lazy',<br>\n",
    "4], ['DOG', 'dog', 3]] (the list containing a list for every word of list<br>\n",
    "words, where each list contains the word in uppercase and lowercase and the<br>\n",
    "length of the word.)<br>\n",
    "e) ['The', 'quick', 'brown', 'fox', 'jumps', 'over', 'the',<br>\n",
    "'lazy', 'dog'] (the list of words in list words containing 4 or more<br>\n",
    "characters<br>"
   ]
  },
  {
   "cell_type": "code",
   "execution_count": 24,
   "id": "f98ead10",
   "metadata": {},
   "outputs": [],
   "source": [
    " words = ['The', 'quick', 'brown', 'fox', 'jumps', 'over',\n",
    "'the', 'lazy', 'dog']"
   ]
  },
  {
   "cell_type": "markdown",
   "id": "2ff1a67d",
   "metadata": {},
   "source": [
    "A."
   ]
  },
  {
   "cell_type": "code",
   "execution_count": 25,
   "id": "37adbf61",
   "metadata": {},
   "outputs": [
    {
     "name": "stdout",
     "output_type": "stream",
     "text": [
      "['THE', 'QUICK', 'BROWN', 'FOX', 'JUMPS', 'OVER', 'THE', 'LAZY', 'DOG']\n"
     ]
    }
   ],
   "source": [
    "alist = [i.upper() for i in words ]\n",
    "\n",
    "print(alist)"
   ]
  },
  {
   "cell_type": "markdown",
   "id": "31c93a53",
   "metadata": {},
   "source": [
    "B."
   ]
  },
  {
   "cell_type": "code",
   "execution_count": 26,
   "id": "6d18a2a5",
   "metadata": {},
   "outputs": [
    {
     "name": "stdout",
     "output_type": "stream",
     "text": [
      "['the', 'quick', 'brown', 'fox', 'jumps', 'over', 'the', 'lazy', 'dog']\n"
     ]
    }
   ],
   "source": [
    "blist = [i.lower() for i in words ] \n",
    "print(blist)"
   ]
  },
  {
   "cell_type": "markdown",
   "id": "135aeab1",
   "metadata": {},
   "source": [
    "C."
   ]
  },
  {
   "cell_type": "code",
   "execution_count": 27,
   "id": "09332d02",
   "metadata": {
    "scrolled": true
   },
   "outputs": [
    {
     "name": "stdout",
     "output_type": "stream",
     "text": [
      "[3, 5, 5, 3, 5, 4, 3, 4, 3]\n"
     ]
    }
   ],
   "source": [
    "clist = [len(i) for i in words ] \n",
    "print(clist)"
   ]
  },
  {
   "cell_type": "markdown",
   "id": "0f98daaf",
   "metadata": {},
   "source": [
    "D."
   ]
  },
  {
   "cell_type": "code",
   "execution_count": 31,
   "id": "81128c18",
   "metadata": {},
   "outputs": [
    {
     "name": "stdout",
     "output_type": "stream",
     "text": [
      "[['THE', 'the', 3], ['QUICK', 'quick', 5], ['BROWN', 'brown', 5], ['FOX', 'fox', 3], ['JUMPS', 'jumps', 5], ['OVER', 'over', 4], ['THE', 'the', 3], ['LAZY', 'lazy', 4], ['DOG', 'dog', 3]]\n"
     ]
    }
   ],
   "source": [
    "dlist = [[i.upper(),i.lower(),len(i)] for i in words ] \n",
    "print(dlist)"
   ]
  },
  {
   "cell_type": "markdown",
   "id": "aab7f6a7",
   "metadata": {},
   "source": [
    "E."
   ]
  },
  {
   "cell_type": "code",
   "execution_count": 33,
   "id": "4f68eee1",
   "metadata": {},
   "outputs": [
    {
     "name": "stdout",
     "output_type": "stream",
     "text": [
      "['quick', 'brown', 'jumps', 'over', 'lazy']\n"
     ]
    }
   ],
   "source": [
    "dlist = [i for i in words if len(i)>=4 ] \n",
    "print(dlist)"
   ]
  },
  {
   "cell_type": "code",
   "execution_count": null,
   "id": "90e840cb",
   "metadata": {},
   "outputs": [],
   "source": []
  }
 ],
 "metadata": {
  "kernelspec": {
   "display_name": "Python 3 (ipykernel)",
   "language": "python",
   "name": "python3"
  },
  "language_info": {
   "codemirror_mode": {
    "name": "ipython",
    "version": 3
   },
   "file_extension": ".py",
   "mimetype": "text/x-python",
   "name": "python",
   "nbconvert_exporter": "python",
   "pygments_lexer": "ipython3",
   "version": "3.9.7"
  }
 },
 "nbformat": 4,
 "nbformat_minor": 5
}
